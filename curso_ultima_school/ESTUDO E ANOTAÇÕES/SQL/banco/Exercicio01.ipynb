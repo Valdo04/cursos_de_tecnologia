{
 "cells": [
  {
   "cell_type": "markdown",
   "metadata": {},
   "source": [
    "Crie um programa em Python que gere tabelas para uma aplicação de gerenciamento de tarefas. As tabelas devem compreender as seguintes funcionalidades:\n",
    "As tarefas devem ser divididas em “categorias”;\n",
    "Uma tarefa deve ter nome, data, categoria e status de conclusão (se foi realizada ou não); \n",
    "As restrições/relacionamentos devem fazer sentido."
   ]
  },
  {
   "cell_type": "code",
   "execution_count": null,
   "metadata": {},
   "outputs": [],
   "source": [
    "from prettytable import PrettyTable\n",
    "from datetime import datetime\n",
    "\n",
    "class GerenciadorTarefas:\n",
    "    def __init__(self):\n",
    "        self.categorias = set()\n",
    "        self.tarefas = []\n",
    "\n",
    "    def adicionar_tarefa(self, nome, data, categoria, concluida=False):\n",
    "        self.categorias.add(categoria)\n",
    "        tarefa = {\"nome\": nome, \"data\": data, \"categoria\": categoria, \"concluida\": concluida}\n",
    "        self.tarefas.append(tarefa)\n",
    "\n",
    "    def listar_tarefas(self):\n",
    "        table = PrettyTable([\"Nome\", \"Data\", \"Categoria\", \"Concluída\"])\n",
    "        for tarefa in self.tarefas:\n",
    "            table.add_row([tarefa[\"nome\"], tarefa[\"data\"], tarefa[\"categoria\"], \"Sim\" if tarefa[\"concluida\"] else \"Não\"])\n",
    "        print(table)\n",
    "\n",
    "    def listar_categorias(self):\n",
    "        print(\"Categorias disponíveis:\")\n",
    "        for categoria in self.categorias:\n",
    "            print(f\"- {categoria}\")\n",
    "\n",
    "# Exemplo de uso\n",
    "gerenciador = GerenciadorTarefas()\n",
    "\n",
    "# Adiciona algumas tarefas de exemplo\n",
    "gerenciador.adicionar_tarefa(\"Estudar Python\", datetime(2022, 2, 1), \"Estudo\")\n",
    "gerenciador.adicionar_tarefa(\"Fazer compras\", datetime(2022, 2, 5), \"Compras\")\n",
    "gerenciador.adicionar_tarefa(\"Exercícios físicos\", datetime(2022, 2, 10), \"Saúde\", concluida=True)\n",
    "\n",
    "# Lista as tarefas e categorias\n",
    "gerenciador.listar_tarefas()\n",
    "gerenciador.listar_categorias()\n"
   ]
  }
 ],
 "metadata": {
  "kernelspec": {
   "display_name": "Python 3",
   "language": "python",
   "name": "python3"
  },
  "language_info": {
   "codemirror_mode": {
    "name": "ipython",
    "version": 3
   },
   "file_extension": ".py",
   "mimetype": "text/x-python",
   "name": "python",
   "nbconvert_exporter": "python",
   "pygments_lexer": "ipython3",
   "version": "3.12.1"
  }
 },
 "nbformat": 4,
 "nbformat_minor": 2
}
