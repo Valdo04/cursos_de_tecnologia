{
 "cells": [
  {
   "cell_type": "markdown",
   "metadata": {},
   "source": [
    "Crie um programa em Python que gere tabelas para uma aplicação de eventos. Elas devem compreender as seguintes funcionalidades:\n",
    "Eventos devem ter título, data e local, além da referência ao organizador;\n",
    "O organizador deve ter nome, email e cpf;\n",
    "As restrições/relacionamentos devem fazer sentido"
   ]
  },
  {
   "cell_type": "code",
   "execution_count": 1,
   "metadata": {},
   "outputs": [
    {
     "name": "stdout",
     "output_type": "stream",
     "text": [
      "+----------------+-----------------+----------------+\n",
      "|      Nome      |      Email      |      CPF       |\n",
      "+----------------+-----------------+----------------+\n",
      "|   João Silva   |  joao@email.com | 123.456.789-01 |\n",
      "| Maria Oliveira | maria@email.com | 987.654.321-00 |\n",
      "+----------------+-----------------+----------------+\n",
      "+---------------------------+------------+----------------------+----------------+\n",
      "|           Título          |    Data    |        Local         |  Organizador   |\n",
      "+---------------------------+------------+----------------------+----------------+\n",
      "| Conferência de Tecnologia | 2022-02-15 | Centro de Convenções |   João Silva   |\n",
      "|      Festival de Arte     | 2022-03-10 |   Teatro Municipal   | Maria Oliveira |\n",
      "+---------------------------+------------+----------------------+----------------+\n"
     ]
    }
   ],
   "source": [
    "from prettytable import PrettyTable\n",
    "\n",
    "class Organizador:\n",
    "    def __init__(self, nome, email, cpf):\n",
    "        self.nome = nome\n",
    "        self.email = email\n",
    "        self.cpf = cpf\n",
    "\n",
    "class Evento:\n",
    "    def __init__(self, titulo, data, local, organizador):\n",
    "        self.titulo = titulo\n",
    "        self.data = data\n",
    "        self.local = local\n",
    "        self.organizador = organizador\n",
    "\n",
    "class GerenciadorEventos:\n",
    "    def __init__(self):\n",
    "        self.organizadores = []\n",
    "        self.eventos = []\n",
    "\n",
    "    def adicionar_organizador(self, nome, email, cpf):\n",
    "        organizador = Organizador(nome, email, cpf)\n",
    "        self.organizadores.append(organizador)\n",
    "        return organizador\n",
    "\n",
    "    def adicionar_evento(self, titulo, data, local, organizador):\n",
    "        evento = Evento(titulo, data, local, organizador)\n",
    "        self.eventos.append(evento)\n",
    "\n",
    "    def listar_organizadores(self):\n",
    "        table = PrettyTable([\"Nome\", \"Email\", \"CPF\"])\n",
    "        for organizador in self.organizadores:\n",
    "            table.add_row([organizador.nome, organizador.email, organizador.cpf])\n",
    "        print(table)\n",
    "\n",
    "    def listar_eventos(self):\n",
    "        table = PrettyTable([\"Título\", \"Data\", \"Local\", \"Organizador\"])\n",
    "        for evento in self.eventos:\n",
    "            table.add_row([evento.titulo, evento.data, evento.local, evento.organizador.nome])\n",
    "        print(table)\n",
    "\n",
    "# Exemplo de uso\n",
    "gerenciador = GerenciadorEventos()\n",
    "\n",
    "# Adiciona alguns organizadores e eventos de exemplo\n",
    "organizador1 = gerenciador.adicionar_organizador(\"João Silva\", \"joao@email.com\", \"123.456.789-01\")\n",
    "organizador2 = gerenciador.adicionar_organizador(\"Maria Oliveira\", \"maria@email.com\", \"987.654.321-00\")\n",
    "\n",
    "gerenciador.adicionar_evento(\"Conferência de Tecnologia\", \"2022-02-15\", \"Centro de Convenções\", organizador1)\n",
    "gerenciador.adicionar_evento(\"Festival de Arte\", \"2022-03-10\", \"Teatro Municipal\", organizador2)\n",
    "\n",
    "# Lista os organizadores e eventos\n",
    "gerenciador.listar_organizadores()\n",
    "gerenciador.listar_eventos()"
   ]
  }
 ],
 "metadata": {
  "kernelspec": {
   "display_name": "Python 3",
   "language": "python",
   "name": "python3"
  },
  "language_info": {
   "codemirror_mode": {
    "name": "ipython",
    "version": 3
   },
   "file_extension": ".py",
   "mimetype": "text/x-python",
   "name": "python",
   "nbconvert_exporter": "python",
   "pygments_lexer": "ipython3",
   "version": "3.12.1"
  }
 },
 "nbformat": 4,
 "nbformat_minor": 2
}
