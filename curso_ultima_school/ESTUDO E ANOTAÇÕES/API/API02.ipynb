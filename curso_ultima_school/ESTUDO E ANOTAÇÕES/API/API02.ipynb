{
 "cells": [
  {
   "cell_type": "markdown",
   "id": "2dbc38fc",
   "metadata": {},
   "source": [
    "API Busca preço de criptomoeda\n",
    "video aula:\n",
    "https://drive.google.com/file/d/1rGyvGUALJ-F7DxEdL_eSa1iFuaVZtglV/view?pli=1"
   ]
  },
  {
   "cell_type": "code",
   "execution_count": 1,
   "id": "e3e1bd8d",
   "metadata": {},
   "outputs": [],
   "source": [
    "import requests\n",
    "\n",
    "# Nome da moeda que desejamos  obter informações \n",
    "coin = \"bitcoin\"\n",
    "\n",
    "# URL da API CoinGecko\n",
    "url = f\"https://api.coingecko.com/api/v3/coins/{coin}\"\n",
    "\n",
    "#Fazendo a solicitação para a API\n",
    "response = requests.get(url)"
   ]
  },
  {
   "cell_type": "code",
   "execution_count": 2,
   "id": "cdf1489b",
   "metadata": {},
   "outputs": [
    {
     "data": {
      "text/plain": [
       "<Response [200]>"
      ]
     },
     "execution_count": 2,
     "metadata": {},
     "output_type": "execute_result"
    }
   ],
   "source": [
    "response"
   ]
  },
  {
   "cell_type": "code",
   "execution_count": 3,
   "id": "2e14b3d5",
   "metadata": {},
   "outputs": [],
   "source": [
    "# Verificando se a solicitação foi bem sucedida \n",
    "if response.status_code == 200:\n",
    "    # Convertendo a reposta da API para um dicionario\n",
    "    data = response.json()\n",
    "else:\n",
    "    print(\"Ocorreu um erro ao obter os dados da API\")"
   ]
  },
  {
   "cell_type": "code",
   "execution_count": null,
   "id": "f8d17155",
   "metadata": {},
   "outputs": [],
   "source": [
    "data"
   ]
  },
  {
   "cell_type": "code",
   "execution_count": null,
   "id": "06e5a988",
   "metadata": {},
   "outputs": [],
   "source": [
    "data.keys()"
   ]
  },
  {
   "cell_type": "code",
   "execution_count": null,
   "id": "d3107f70",
   "metadata": {},
   "outputs": [],
   "source": [
    "data[\"market_data\"]"
   ]
  },
  {
   "cell_type": "code",
   "execution_count": null,
   "id": "0e22ed90",
   "metadata": {},
   "outputs": [],
   "source": [
    "data[\"market_data\"][\"current_price\"]"
   ]
  },
  {
   "cell_type": "code",
   "execution_count": 10,
   "id": "bbc0c1da",
   "metadata": {},
   "outputs": [],
   "source": [
    "class BitcoinIterator:\n",
    "    \"\"\"\n",
    "    Classe que itera sobre os preços atuais de uma moeda obtidos de uma API.\n",
    "    \n",
    "    Atributos:\n",
    "        preços (dict): Dicionário com informações sobre os preços atuais da moeda em diferentes moedas.\n",
    "        current (int): Índice atual do dicionário de preços.\n",
    "        end (int): Tamanho do dicionário de preços.\n",
    "    \n",
    "    Métodos:\n",
    "        __iter__: Implementação padrão do método mágico __iter__.\n",
    "        __next__: Implementação padrão do método mágico __next__.\n",
    "    \"\"\"\n",
    "    def __init__(self, coin_name: str):\n",
    "        \"\"\"\n",
    "        Construtor da classe.\n",
    "        \n",
    "        Argumentos:\n",
    "            coin_name (str): Nome da moeda a ser buscada na API.\n",
    "        \"\"\"\n",
    "        \n",
    "        # Nome da moeda que desejamos obter informações\n",
    "        coin = coin_name\n",
    "\n",
    "        # URL da API CoinGecko\n",
    "        url = f\"https://api.coingecko.com/api/v3/coins/{coin}\"\n",
    "\n",
    "        # Fazendo a solicitação para a API\n",
    "        response = requests.get(url)\n",
    "\n",
    "        # Convertendo a resposta da API para um dicionário\n",
    "        data = response.json()\n",
    "        \n",
    "        # Obtendo o dicionário de preços\n",
    "        self.precos = data[\"market_data\"][\"current_price\"]\n",
    "        \n",
    "        # Instanciando nosso estado atual e final\n",
    "        self.current = 0\n",
    "        self.end = len(self.precos)\n",
    "\n",
    "    def __iter__(self):\n",
    "        return self\n",
    "\n",
    "    def __next__(self):\n",
    "        if self.current >= self.end:\n",
    "            raise StopIteration\n",
    "        result = list(self.precos.items())[self.current]\n",
    "        self.current += 1\n",
    "        return result"
   ]
  },
  {
   "cell_type": "code",
   "execution_count": null,
   "id": "83b907ed",
   "metadata": {},
   "outputs": [],
   "source": [
    "# Instanciando a classe com o nome da moeda que desejamos obter informações\n",
    "bit = BitcoinIterator(\"bitcoin\")\n",
    "\n",
    "# Iterando sobre os preços em diferentes moedas\n",
    "for key, value in bit.precos.items():\n",
    "    print(f\"O preço atual do Bitcoin em {key.upper()} é de {value:.2f}\")"
   ]
  }
 ],
 "metadata": {
  "kernelspec": {
   "display_name": "Python 3",
   "language": "python",
   "name": "python3"
  },
  "language_info": {
   "codemirror_mode": {
    "name": "ipython",
    "version": 3
   },
   "file_extension": ".py",
   "mimetype": "text/x-python",
   "name": "python",
   "nbconvert_exporter": "python",
   "pygments_lexer": "ipython3",
   "version": "3.12.1"
  }
 },
 "nbformat": 4,
 "nbformat_minor": 5
}
