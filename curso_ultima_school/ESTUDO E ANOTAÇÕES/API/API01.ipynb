{
 "cells": [
  {
   "cell_type": "markdown",
   "id": "3594117f",
   "metadata": {},
   "source": [
    "Exemplo 1) Ultilizando API site Github"
   ]
  },
  {
   "cell_type": "code",
   "execution_count": 6,
   "metadata": {},
   "outputs": [
    {
     "name": "stdout",
     "output_type": "stream",
     "text": [
      "Usando a API fo Github\n",
      "\n",
      "\n",
      " nome do usuário: Valdo Marques\n",
      "\n",
      " Bio do usuário: None\n",
      "\n",
      " Localização do usuário: None\n",
      "\n",
      " Email do usuário: None\n"
     ]
    }
   ],
   "source": [
    "import requests\n",
    "\n",
    "print('Usando a API fo Github\\n')\n",
    "\n",
    "usuario = input('Qual é o nome do usuário que deseja procurar ?')\n",
    "\n",
    "url = f'https://api.github.com/users/{usuario}'\n",
    "\n",
    "response = requests.get(url)\n",
    "data = response.json()\n",
    "\n",
    "if response.status_code == 200:\n",
    "    print(f'\\n nome do usuário: {data[\"name\"]}')\n",
    "    print(f'\\n Bio do usuário: {data[\"bio\"]}')\n",
    "    print(f'\\n Localização do usuário: {data[\"location\"]}')\n",
    "    print(f'\\n Email do usuário: {data[\"email\"]}')\n",
    "else:\n",
    "    print('Usuario não encontrado')"
   ]
  },
  {
   "cell_type": "markdown",
   "id": "64a9c616",
   "metadata": {},
   "source": [
    "Exemplo 2) Ultilizando API "
   ]
  },
  {
   "cell_type": "code",
   "execution_count": 7,
   "id": "65922b46",
   "metadata": {},
   "outputs": [
    {
     "name": "stdout",
     "output_type": "stream",
     "text": [
      "Usando a API de Cotação \n",
      "\n",
      "U$ 1 Corresponde a R$ 4.98\n"
     ]
    }
   ],
   "source": [
    "import requests\n",
    "\n",
    "print('Usando a API de Cotação \\n')\n",
    "\n",
    "\n",
    "url = f'https://economia.awesomeapi.com.br/last/USD-BRL'\n",
    "response = requests.get(url)\n",
    "\n",
    "if response.status_code == 200:\n",
    "    data = response.json()\n",
    "    cotacao = float(data['USDBRL']['bid'])\n",
    "    mensagem = f'U$ 1 Corresponde a R$ {cotacao:.2f}'\n",
    "    print(mensagem)\n",
    "    \n",
    "else:\n",
    "    print(f'Não foi possível fazer a requisição. ERRO: {response.status_code}')"
   ]
  },
  {
   "cell_type": "markdown",
   "id": "a7f66f1f",
   "metadata": {},
   "source": []
  },
  {
   "cell_type": "code",
   "execution_count": null,
   "id": "98ef7e20",
   "metadata": {},
   "outputs": [],
   "source": [
    "import requests\n",
    "\n",
    "print ('---- Usando a API da Tabela FIRE ----')\n",
    "\n",
    "url = f'https://parallelum.com.br/fipe/api/v1/carros/marcas'\n",
    "response = requests.get(url)\n",
    "\n",
    "if response.status_code == 200:\n",
    "    data = response.json()\n",
    "\n",
    "    for carro in data:\n",
    "        print(f'{carro[\"codigo\"]} : {carro[\"nome\"]}')\n",
    "\n",
    "    \n",
    "    marca = int(input('Informe a marca que deseja consulta neste momento'))\n",
    "\n",
    "url = f'https://parallelum.com.br/fipe/api/v1/carros/marcas/{marca}/modelos'\n",
    "response2 = requests.get(url)\n",
    "\n",
    "\n",
    "print('_-_'*20)\n",
    "\n",
    "if response2.status_code == 200:\n",
    "    data2 = response2.json()\n",
    "    modelos = data2[\"modelos\"]\n",
    "\n",
    "    for modelo in modelos:\n",
    "        print(f'{modelo[\"codigo\"]} : {modelo[\"nome\"]}')\n",
    "\n",
    "else:\n",
    "    print('Não há registro')\n",
    "    \n",
    "\n"
   ]
  },
  {
   "cell_type": "code",
   "execution_count": null,
   "id": "e4680ed5",
   "metadata": {},
   "outputs": [],
   "source": [
    "import requests\n",
    "\n",
    "print('Tabela FIPE')\n",
    "\n",
    "print('\\n1 - Listar marcas')\n",
    "print('2 - Consultar modelos de uma marca')\n",
    "print('0 - Sair do programa')\n",
    "opcao = int(input('\\nSelecione uma opção: '))\n",
    "\n",
    "while (opcao != 0):\n",
    "    if (opcao == 1):\n",
    "        url = f'https://parallelum.com.br/fipe/api/v1/carros/marcas'\n",
    "\n",
    "        response = requests.get(url)\n",
    "        data = response.json()\n",
    "        \n",
    "        if response.status_code == 200:\n",
    "            for carro in data:\n",
    "                print(f'{carro[\"codigo\"]}: {carro[\"nome\"]}')\n",
    "        else:\n",
    "            print('Sem registros!')\n",
    "\n",
    "    if (opcao == 2):\n",
    "        marca = int(input('Qual marca deseja consultar os modelos? '))\n",
    "\n",
    "        url = f'https://parallelum.com.br/fipe/api/v1/carros/marcas/{marca}/modelos'\n",
    "\n",
    "        response = requests.get(url)\n",
    "        data = response.json()\n",
    "        modelos = data[\"modelos\"]\n",
    "\n",
    "        if response.status_code == 200:\n",
    "            for carro in modelos:\n",
    "                print(f'{carro[\"codigo\"]}: {carro[\"nome\"]}')\n",
    "        else:\n",
    "            print('Sem registros!')\n",
    "\n",
    "    print('1 - Listar marcas')\n",
    "    print('2 - Consultar modelos de uma marca')\n",
    "    print('0 - Sair do programa')\n",
    "    opcao = int(input('\\nSelecione uma opção: '))\n",
    "\n",
    "print('\\n--- Fim do Programa ---')"
   ]
  }
 ],
 "metadata": {
  "kernelspec": {
   "display_name": "Python 3",
   "language": "python",
   "name": "python3"
  },
  "language_info": {
   "codemirror_mode": {
    "name": "ipython",
    "version": 3
   },
   "file_extension": ".py",
   "mimetype": "text/x-python",
   "name": "python",
   "nbconvert_exporter": "python",
   "pygments_lexer": "ipython3",
   "version": "3.12.1"
  }
 },
 "nbformat": 4,
 "nbformat_minor": 5
}
