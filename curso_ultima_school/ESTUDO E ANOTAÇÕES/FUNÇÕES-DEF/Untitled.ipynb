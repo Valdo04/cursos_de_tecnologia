{
 "cells": [
  {
   "cell_type": "code",
   "execution_count": 1,
   "id": "9b9859e2",
   "metadata": {},
   "outputs": [
    {
     "data": {
      "text/plain": [
       "5"
      ]
     },
     "execution_count": 1,
     "metadata": {},
     "output_type": "execute_result"
    }
   ],
   "source": [
    "3+2\n"
   ]
  },
  {
   "cell_type": "code",
   "execution_count": null,
   "id": "6b3e8615",
   "metadata": {},
   "outputs": [],
   "source": []
  },
  {
   "cell_type": "code",
   "execution_count": 5,
   "id": "86c1c89a",
   "metadata": {},
   "outputs": [
    {
     "name": "stdout",
     "output_type": "stream",
     "text": [
      "Digite um numero10\n"
     ]
    },
    {
     "ename": "TypeError",
     "evalue": "fatorial() missing 1 required positional argument: 'numero'",
     "output_type": "error",
     "traceback": [
      "\u001b[1;31m---------------------------------------------------------------------------\u001b[0m",
      "\u001b[1;31mTypeError\u001b[0m                                 Traceback (most recent call last)",
      "Cell \u001b[1;32mIn[5], line 7\u001b[0m\n\u001b[0;32m      5\u001b[0m     \u001b[38;5;28;01mreturn\u001b[39;00m numero \u001b[38;5;241m*\u001b[39m fatorial(numero\u001b[38;5;241m-\u001b[39m\u001b[38;5;241m1\u001b[39m)\n\u001b[0;32m      6\u001b[0m soma \u001b[38;5;241m=\u001b[39m \u001b[38;5;28mint\u001b[39m(\u001b[38;5;28minput\u001b[39m(\u001b[38;5;124m'\u001b[39m\u001b[38;5;124mDigite um numero\u001b[39m\u001b[38;5;124m'\u001b[39m))\n\u001b[1;32m----> 7\u001b[0m retorno \u001b[38;5;241m=\u001b[39m \u001b[43mfatorial\u001b[49m\u001b[43m(\u001b[49m\u001b[43m)\u001b[49m\u001b[38;5;241m+\u001b[39msoma\n\u001b[0;32m      8\u001b[0m \u001b[38;5;28mprint\u001b[39m(retorno)\n",
      "\u001b[1;31mTypeError\u001b[0m: fatorial() missing 1 required positional argument: 'numero'"
     ]
    }
   ],
   "source": [
    "def fatorial(numero):\n",
    "    print(numero)\n",
    "    if numero == 1:\n",
    "        return 0\n",
    "    return numero * fatorial(numero-1)\n",
    "soma = int(input('Digite um numero'))\n",
    "retorno = fatorial()+soma\n",
    "print(retorno)\n"
   ]
  },
  {
   "cell_type": "code",
   "execution_count": null,
   "id": "4bb18147",
   "metadata": {},
   "outputs": [],
   "source": []
  }
 ],
 "metadata": {
  "kernelspec": {
   "display_name": "Python 3 (ipykernel)",
   "language": "python",
   "name": "python3"
  },
  "language_info": {
   "codemirror_mode": {
    "name": "ipython",
    "version": 3
   },
   "file_extension": ".py",
   "mimetype": "text/x-python",
   "name": "python",
   "nbconvert_exporter": "python",
   "pygments_lexer": "ipython3",
   "version": "3.11.2"
  }
 },
 "nbformat": 4,
 "nbformat_minor": 5
}
