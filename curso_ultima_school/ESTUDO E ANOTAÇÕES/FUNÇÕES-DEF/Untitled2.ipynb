{
 "cells": [
  {
   "cell_type": "code",
   "execution_count": null,
   "id": "3320aae8",
   "metadata": {},
   "outputs": [
    {
     "name": "stdout",
     "output_type": "stream",
     "text": [
      "Digite um numero:10\n",
      "10\n",
      "Digite um numero:9\n",
      "9\n",
      "Digite um numero:12\n",
      "12\n"
     ]
    }
   ],
   "source": [
    "def fatorial(numero):\n",
    "    numero = int(input('Digite um numero:'))\n",
    "    print(numero)\n",
    "    if numero == 1:\n",
    "        return 1\n",
    "    return numero *fatorial(numero -1) \n",
    "\n",
    "retorno = fatorial(0)\n",
    "print(retorno)"
   ]
  }
 ],
 "metadata": {
  "kernelspec": {
   "display_name": "Python 3 (ipykernel)",
   "language": "python",
   "name": "python3"
  },
  "language_info": {
   "codemirror_mode": {
    "name": "ipython",
    "version": 3
   },
   "file_extension": ".py",
   "mimetype": "text/x-python",
   "name": "python",
   "nbconvert_exporter": "python",
   "pygments_lexer": "ipython3",
   "version": "3.11.2"
  }
 },
 "nbformat": 4,
 "nbformat_minor": 5
}
