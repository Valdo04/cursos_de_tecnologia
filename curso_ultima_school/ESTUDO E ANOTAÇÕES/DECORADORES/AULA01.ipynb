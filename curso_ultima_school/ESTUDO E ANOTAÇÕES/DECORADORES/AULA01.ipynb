{
 "cells": [
  {
   "cell_type": "markdown",
   "metadata": {},
   "source": [
    "DECORADORES --> estender o funcionameto/comportamento das funções"
   ]
  },
  {
   "cell_type": "code",
   "execution_count": null,
   "metadata": {},
   "outputs": [],
   "source": [
    "def primeiro_decorador(funcao):\n",
    "    def segunda_funcao():\n",
    "        print(\"O que esta acontecendo antes da função\")\n",
    "        funcao()\n",
    "        print(\"O que esta acontecendo depois da função\")\n",
    "    return segunda_funcao\n",
    "    \n",
    "@primeiro_decorador\n",
    "def funcao():\n",
    "    print(\"Executando essa função\")\n",
    "\n",
    "funcao()"
   ]
  },
  {
   "cell_type": "markdown",
   "metadata": {},
   "source": []
  },
  {
   "cell_type": "code",
   "execution_count": 6,
   "metadata": {},
   "outputs": [],
   "source": [
    "import time\n",
    "\n",
    "def decoradores_time(contador):\n",
    "    def executando_temporizador():\n",
    "        print(\"Começou aqui\")\n",
    "        print(time.time())\n",
    "        contador()\n",
    "        print(\"finalizou\")\n",
    "        print(time.time())\n",
    "    return executando_temporizador\n",
    "\n",
    "@decoradores_time\n",
    "def tempo_contagem():\n",
    "    for x in range(1000):\n",
    "        print(x)\n"
   ]
  },
  {
   "cell_type": "code",
   "execution_count": null,
   "metadata": {},
   "outputs": [],
   "source": [
    "tempo_contagem()"
   ]
  },
  {
   "cell_type": "markdown",
   "metadata": {},
   "source": []
  },
  {
   "cell_type": "code",
   "execution_count": null,
   "metadata": {},
   "outputs": [],
   "source": [
    "def cumprimento(funcao):\n",
    "    def saudacao():\n",
    "        print(\"Bom dia!!!\")\n",
    "        funcao()\n",
    "        print(\"Boa noite\")\n",
    "    return saudacao\n",
    "@cumprimento\n",
    "def boa_tarde():\n",
    "    print(\"Boa tarde!!!\")\n",
    "\n",
    "boa_tarde()\n",
    "\n",
    "\n",
    "    \n",
    "        \n"
   ]
  },
  {
   "cell_type": "markdown",
   "metadata": {},
   "source": []
  },
  {
   "cell_type": "code",
   "execution_count": null,
   "metadata": {},
   "outputs": [],
   "source": [
    "def decorador_autenticacao(funcao):\n",
    "    autenticacao = '123456'\n",
    "    def validacao_transferencia(*agrs, **kwargs):\n",
    "        user_senha = input(\"Digite sua senha:\")\n",
    "        if user_senha == autenticacao:\n",
    "            print(\"senha correta. Executando transferencia\")\n",
    "            resultado = funcao(*agrs, **kwargs)\n",
    "        else:\n",
    "            print(\"Senha incorreta. Acesso bloqueado\")\n",
    "            resultado = None\n",
    "        return resultado\n",
    "    return validacao_transferencia\n",
    "\n",
    "@decorador_autenticacao\n",
    "def realizando_transferencia():\n",
    "    valor = input(\"Qual valor da transferencia:\")\n",
    "    print(f\"Sua transferencia no valor de {valor} reais foi realizada, segue comprovante\")\n",
    "\n",
    "realizando_transferencia()"
   ]
  },
  {
   "cell_type": "code",
   "execution_count": 19,
   "metadata": {},
   "outputs": [
    {
     "name": "stdout",
     "output_type": "stream",
     "text": [
      "^C\n"
     ]
    },
    {
     "name": "stdout",
     "output_type": "stream",
     "text": [
      "Collecting pytest-cov\n",
      "  Downloading pytest_cov-4.1.0-py3-none-any.whl.metadata (26 kB)\n",
      "Requirement already satisfied: pytest>=4.6 in c:\\users\\glaci\\appdata\\local\\programs\\python\\python312\\lib\\site-packages (from pytest-cov) (8.0.0)\n",
      "Collecting coverage>=5.2.1 (from coverage[toml]>=5.2.1->pytest-cov)\n",
      "  Downloading coverage-7.4.1-cp312-cp312-win_amd64.whl.metadata (8.4 kB)\n",
      "Requirement already satisfied: iniconfig in c:\\users\\glaci\\appdata\\local\\programs\\python\\python312\\lib\\site-packages (from pytest>=4.6->pytest-cov) (2.0.0)\n",
      "Requirement already satisfied: packaging in c:\\users\\glaci\\appdata\\local\\programs\\python\\python312\\lib\\site-packages (from pytest>=4.6->pytest-cov) (23.2)\n",
      "Requirement already satisfied: pluggy<2.0,>=1.3.0 in c:\\users\\glaci\\appdata\\local\\programs\\python\\python312\\lib\\site-packages (from pytest>=4.6->pytest-cov) (1.4.0)\n",
      "Requirement already satisfied: colorama in c:\\users\\glaci\\appdata\\local\\programs\\python\\python312\\lib\\site-packages (from pytest>=4.6->pytest-cov) (0.4.6)\n",
      "Downloading pytest_cov-4.1.0-py3-none-any.whl (21 kB)\n",
      "Downloading coverage-7.4.1-cp312-cp312-win_amd64.whl (210 kB)\n",
      "   ---------------------------------------- 0.0/210.0 kB ? eta -:--:--\n",
      "   ----- ---------------------------------- 30.7/210.0 kB 1.3 MB/s eta 0:00:01\n",
      "   ------------------------------- -------- 163.8/210.0 kB 2.4 MB/s eta 0:00:01\n",
      "   ---------------------------------------  204.8/210.0 kB 2.5 MB/s eta 0:00:01\n",
      "   ---------------------------------------  204.8/210.0 kB 2.5 MB/s eta 0:00:01\n",
      "   -------------------------------------- 210.0/210.0 kB 984.0 kB/s eta 0:00:00\n",
      "Installing collected packages: coverage, pytest-cov\n",
      "Successfully installed coverage-7.4.1 pytest-cov-4.1.0\n"
     ]
    }
   ],
   "source": [
    "!pip install pytest-cov\n"
   ]
  }
 ],
 "metadata": {
  "kernelspec": {
   "display_name": "Python 3",
   "language": "python",
   "name": "python3"
  },
  "language_info": {
   "codemirror_mode": {
    "name": "ipython",
    "version": 3
   },
   "file_extension": ".py",
   "mimetype": "text/x-python",
   "name": "python",
   "nbconvert_exporter": "python",
   "pygments_lexer": "ipython3",
   "version": "3.12.1"
  }
 },
 "nbformat": 4,
 "nbformat_minor": 2
}
