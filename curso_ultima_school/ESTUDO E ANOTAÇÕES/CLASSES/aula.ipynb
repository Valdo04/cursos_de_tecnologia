{
 "cells": [
  {
   "cell_type": "markdown",
   "metadata": {},
   "source": [
    "CLASSES:\n",
    "\n",
    "video da aula:\n",
    "https://drive.google.com/file/d/1VtzwAeY2PdDBkpAOQ5ahxS-QC1pZfbjG/view"
   ]
  },
  {
   "cell_type": "code",
   "execution_count": 34,
   "metadata": {},
   "outputs": [
    {
     "name": "stdout",
     "output_type": "stream",
     "text": [
      "foi criado criado um objeto desta classe! \n"
     ]
    }
   ],
   "source": [
    "#Estrutura de uma classe\n",
    "\n",
    "class Exemplo:\n",
    "    #Construtor: inicializa informações do meu objeto\n",
    "    def __init__(self):\n",
    "        print(\"foi criado criado um objeto desta classe! \")\n",
    "\n",
    "variavel = Exemplo() #Instâcia de um objeto da classe.\n",
    "        "
   ]
  },
  {
   "cell_type": "code",
   "execution_count": 35,
   "metadata": {},
   "outputs": [],
   "source": [
    "#Como funciona o armazenamento e alteração de irformação de classe\n",
    "class Produto:\n",
    "    def __init__(self):\n",
    "        #Atributos == Variáveis da classe : Atributos representam as características do objetp.\n",
    "        self.descricao = None\n",
    "        self.preco = None\n",
    "\n",
    "    def cadastra_produto(self):\n",
    "        self.descricao = input(\"Digite o produto atual\")\n",
    "        self.preco = float(input(\"Digite o preço do produto\"))\n",
    "\n",
    "    \n",
    "    def mostrar_dados(self):\n",
    "        print(f\"Descrição: {self.descricao}\")\n",
    "        print(f\"Preço: R${self.preco}\")\n",
    "    \n",
    "    def atualizar_dados(self):\n",
    "        self.cadastra_produto()\n",
    "    \n",
    "    def __str__(self) -> str:\n",
    "        return (\"class Produtos\")\n",
    "\n",
    "\n",
    "        "
   ]
  },
  {
   "cell_type": "code",
   "execution_count": 36,
   "metadata": {},
   "outputs": [
    {
     "name": "stdout",
     "output_type": "stream",
     "text": [
      "-----CADASTRO-----\n",
      "1) Cadastra 2) Mostra 3) Alterar 0) Sair\n",
      "programa finalizado\n"
     ]
    }
   ],
   "source": [
    "#Adiciona informação no meu estoque\n",
    "print(\"-----CADASTRO-----\")\n",
    "estoque =[]\n",
    "while True:\n",
    "    print(\"1) Cadastra 2) Mostra 3) Alterar 0) Sair\")\n",
    "    opcao = int(input(\"Digite a opção desejada\"))\n",
    "    if opcao == 1:\n",
    "        print(\"----- CADASTRO DE PRODUTO -----\")\n",
    "        produto = Produto()\n",
    "        produto.cadastra_produto()\n",
    "        estoque.append(produto)\n",
    "    elif opcao == 2: \n",
    "        #Explorar o cinteúdo do estoque\n",
    "        print(\"----- Dados Recuperados -----\")\n",
    "        for id,produto in enumerate(estoque):\n",
    "            print(f\"-----> Produto {id}\")\n",
    "            produto.mostrar_dados()\n",
    "    elif opcao == 3:\n",
    "        #Mostra os Produtos\n",
    "        for id,produto in enumerate(estoque):\n",
    "            print(f\"-----> Produto {id}: {produto.descricao}\")\n",
    "        id = int(input(\"Digite o ID do produto a ser modificado:\"))\n",
    "        produto = estoque[id]\n",
    "        produto.atualizar_dados()\n",
    "    elif opcao == 0:\n",
    "        print(\"programa finalizado\")\n",
    "        break\n",
    "    else:\n",
    "        print(\"Opção invalida\")\n"
   ]
  },
  {
   "cell_type": "code",
   "execution_count": 37,
   "metadata": {},
   "outputs": [
    {
     "name": "stdout",
     "output_type": "stream",
     "text": [
      "class Pessoas\n"
     ]
    }
   ],
   "source": [
    "\n",
    "class Pessoa:\n",
    "    def __init__(self, nome):\n",
    "        self.nome = nome\n",
    "    \n",
    "    def __str__(self) -> str:\n",
    "        return \"class Pessoas\"\n",
    "    \n",
    "pessoa = Pessoa(\"Valdo\")\n",
    "print(pessoa)\n",
    "        "
   ]
  },
  {
   "cell_type": "code",
   "execution_count": null,
   "metadata": {},
   "outputs": [],
   "source": [
    "# classe mãe contem apenas os dados definidos nela mesmo\n",
    "\n",
    "class Animal:\n",
    "    def __init__(self, nome):\n",
    "        self.nome = nome\n",
    "\n",
    "    def mostra_dados(self):\n",
    "        print(\"Essa e a função classe Mãe: \")\n",
    "        print(f\"Nome: {self.nome}\")\n",
    "\n",
    "# classe filha (MAIS ESPECIFICA) contem seus proprios dados e ainda pode traz os dados da classe \"Mãe\"\n",
    "class Cachorro(Animal):\n",
    "    def __init__(self, nome):\n",
    "        super().__init__(nome)\n",
    "        self.patas = 4\n",
    "        self.som = \"Au au\"\n",
    "        self.mostra_dados()\n",
    "\n",
    "    def mostra_dados(self):\n",
    "        super().mostra_dados() # super busca dados da classe mãe \"Animal\"\n",
    "        print(f\"Patas: {self.patas}\")\n",
    "        print(f\"Som: {self.som}\")\n",
    "\n",
    "pet1 = Cachorro(\"ScoobyDoo\")\n",
    "print(pet1.nome)"
   ]
  },
  {
   "cell_type": "code",
   "execution_count": null,
   "metadata": {},
   "outputs": [],
   "source": [
    "#Exemplo Personagem\n",
    "class Jogador:\n",
    "    def __init__(self):\n",
    "        self.numero_camiseta = None\n",
    "        self.nome = None\n",
    "        self.ataque = None\n",
    "        self.defesa = None\n",
    "    \n",
    "    #Tarefa: Definam os métodos do jogador\n",
    "    def cadastro(self):\n",
    "        pass\n",
    "\n",
    "class Atacante(Jogador):\n",
    "    def __init__(self):\n",
    "        self.ataque = 100\n",
    "        self.defesa = 90\n",
    "\n",
    "class Goleiro(Jogador):\n",
    "    def __init__(self):\n",
    "        self.ataque = 50\n",
    "        self.defesa = 100\n",
    "\n",
    "#Podem instanciar alguns objetos das classes acima.\n",
    "Time = []\n",
    "numero_jogadores = 11\n",
    "for i in range(numero_jogadores):\n",
    "    jogador = Jogador()\n",
    "    jogador.cadastro()\n",
    "    Time.append()\n",
    "\n",
    "#Apresentem na tela os 11 jogadores escalados/cadastrados."
   ]
  }
 ],
 "metadata": {
  "kernelspec": {
   "display_name": "Python 3",
   "language": "python",
   "name": "python3"
  },
  "language_info": {
   "codemirror_mode": {
    "name": "ipython",
    "version": 3
   },
   "file_extension": ".py",
   "mimetype": "text/x-python",
   "name": "python",
   "nbconvert_exporter": "python",
   "pygments_lexer": "ipython3",
   "version": "3.12.1"
  }
 },
 "nbformat": 4,
 "nbformat_minor": 2
}
