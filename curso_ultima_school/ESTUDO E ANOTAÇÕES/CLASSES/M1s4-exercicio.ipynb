{
 "cells": [
  {
   "cell_type": "markdown",
   "metadata": {},
   "source": [
    "Você foi contratado (a) como programador (a) do Ultima-Bank, o melhor banco da América Latina!\n",
    "\n",
    "O Ultima-Bank ainda é um banco novo, então alguns processos internos ainda estão sendo realizados de maneira manual, com muita papelada envolvida!\n",
    "\n",
    "Para agilizar os processos internos, você foi encarregado (a) de desenvolver um sistema de cadastro de novos clientes utilizando Python!\n",
    "Você entregará nesta tarefa apenas um protótipo para o cadastro de 5 clientes, e caso dê certo, expandiremos para todos os milhões de clientes do Ultima-Bank.\n",
    "\n",
    "Os dados a serem salvos são:\n",
    "\n",
    "Nome (String)\n",
    "CPF (String)\n",
    "Idade (Inteiro)\n",
    "Dicas:\n",
    "\n",
    "Você pode criar uma lista para adicionar todos os clientes;\n",
    "Você pode usar um dicionário para armazenar cada cliente;\n",
    "Você vai obter os dados pela entrada padrão (usando a função input()).\n",
    "Extra (Opcional): Desenvolver utilizando classes.\n",
    "Saída do seu programa:\n",
    "\n",
    "Você deve mostrar a seguinte mensagem para cada cliente: print(“Cliente:”, cliente[“Nome”], “CPF:”, cliente[“CPF”], “Idade:”, cliente[“Idade”])\n",
    "Por exemplo: Cliente: John Snow CPF: 963.125.345-78 Idade: 24\n",
    "Mostre os cinco clientes, um após o outro.\n",
    "\n",
    "Além disso, desenvolva um programa que receba dados de clientes e armazene-os em uma lista. A saída do seu programa será os dados formatados dos 5 clientes cadastrados."
   ]
  },
  {
   "cell_type": "code",
   "execution_count": null,
   "metadata": {},
   "outputs": [],
   "source": [
    "clientes = [\n",
    "    {\"nome\": \"John Snow\", \"CPF\": \"963.125.345-78\", \"Idade\": 24},\n",
    "    {\"nome\": \"Daenerys Targaryen\", \"CPF\": \"917.655.175-47\", \"Idade\": 24},\n",
    "    {\"nome\": \"Harry Potter\", \"CPF\": \"498.569.487-75\", \"Idade\": 42},\n",
    "    {\"nome\": \"Sylvester Stallone\", \"CPF\": \"987.157.963-43\", \"Idade\": 76},\n",
    "    {\"nome\": \"Will Smith\", \"CPF\": \"678.782.963-79\", \"Idade\": 54}\n",
    "]\n",
    "for cliente in clientes:\n",
    "    print(f'\\nInformações do Cliente:')\n",
    "    print(f'Nome: {cliente[\"nome\"]}')\n",
    "    print(f'CPF: {cliente[\"CPF\"]}')\n",
    "    print(f'Idade: {cliente[\"Idade\"]}')\n"
   ]
  }
 ],
 "metadata": {
  "kernelspec": {
   "display_name": "Python 3",
   "language": "python",
   "name": "python3"
  },
  "language_info": {
   "codemirror_mode": {
    "name": "ipython",
    "version": 3
   },
   "file_extension": ".py",
   "mimetype": "text/x-python",
   "name": "python",
   "nbconvert_exporter": "python",
   "pygments_lexer": "ipython3",
   "version": "3.12.1"
  }
 },
 "nbformat": 4,
 "nbformat_minor": 2
}
