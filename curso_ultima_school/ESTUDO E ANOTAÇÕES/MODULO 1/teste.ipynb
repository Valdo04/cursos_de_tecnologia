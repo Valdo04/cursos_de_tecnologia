{
 "cells": [
  {
   "cell_type": "code",
   "execution_count": 2,
   "metadata": {},
   "outputs": [
    {
     "name": "stdout",
     "output_type": "stream",
     "text": [
      "Não foi dessa vez o numero era 5\n"
     ]
    }
   ],
   "source": [
    "from random import randint\n",
    "numero = randint(0, 5)\n",
    "chute = int(input('Digite o seu palpite: '))\n",
    "if numero == chute:\n",
    "    print('Você acertou !!!! PARABÉNS!!! ;)')\n",
    "else:\n",
    "    print('Não foi dessa vez o numero era {}'.format(numero))"
   ]
  }
 ],
 "metadata": {
  "kernelspec": {
   "display_name": "Python 3",
   "language": "python",
   "name": "python3"
  },
  "language_info": {
   "codemirror_mode": {
    "name": "ipython",
    "version": 3
   },
   "file_extension": ".py",
   "mimetype": "text/x-python",
   "name": "python",
   "nbconvert_exporter": "python",
   "pygments_lexer": "ipython3",
   "version": "3.11.2"
  },
  "orig_nbformat": 4
 },
 "nbformat": 4,
 "nbformat_minor": 2
}
