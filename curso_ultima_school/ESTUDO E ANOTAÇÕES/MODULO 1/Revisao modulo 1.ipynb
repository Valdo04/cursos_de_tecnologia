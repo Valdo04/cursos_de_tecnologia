{
 "cells": [
  {
   "cell_type": "code",
   "execution_count": null,
   "metadata": {},
   "outputs": [],
   "source": [
    "notas = []\n",
    "\n",
    "while True:\n",
    "    print('(1) Calcular Medias (2) Ver medias (0) sair')\n",
    "    opcao = int(input('Dgite a opção desejada'))\n",
    "    if opcao == 1:\n",
    "        while True:\n",
    "            nota =  (float(input('Digite sua nota')))\n",
    "            notas.append(nota)\n",
    "            print(notas[:])\n",
    "    elif opcao == 0:\n",
    "        break\n"
   ]
  },
  {
   "cell_type": "code",
   "execution_count": 11,
   "metadata": {},
   "outputs": [
    {
     "name": "stdout",
     "output_type": "stream",
     "text": [
      "\n",
      "Notas inseridas: [7.0, 7.0, 7.0]\n",
      "Média das notas: 7.00\n"
     ]
    }
   ],
   "source": [
    "def calcular_media(notas):\n",
    "    total_notas = len(notas)\n",
    "    if total_notas == 0:\n",
    "        return 0  # Retorna 0 se a lista estiver vazia para evitar divisão por zero\n",
    "    soma = sum(notas)\n",
    "    media = soma / total_notas\n",
    "    return media\n",
    "\n",
    "\n",
    "lista_notas = []\n",
    "\n",
    "while True:\n",
    "    try:\n",
    "        nota = float(input(\"Digite a nota (ou -1 para encerrar): \"))\n",
    "        if nota == -1:\n",
    "            break  # Encerra o loop se o usuário digitar -1\n",
    "        lista_notas.append(nota)\n",
    "    except ValueError:\n",
    "        print(\"Por favor, digite um valor numérico válido.\")\n",
    "\n",
    "media = calcular_media(lista_notas)\n",
    "\n",
    "print(f\"\\nNotas inseridas: {lista_notas}\")\n",
    "print(f\"Média das notas: {media:.2f}\")\n",
    "\n"
   ]
  },
  {
   "cell_type": "code",
   "execution_count": null,
   "metadata": {},
   "outputs": [],
   "source": []
  }
 ],
 "metadata": {
  "kernelspec": {
   "display_name": "Python 3",
   "language": "python",
   "name": "python3"
  },
  "language_info": {
   "codemirror_mode": {
    "name": "ipython",
    "version": 3
   },
   "file_extension": ".py",
   "mimetype": "text/x-python",
   "name": "python",
   "nbconvert_exporter": "python",
   "pygments_lexer": "ipython3",
   "version": "3.12.1"
  }
 },
 "nbformat": 4,
 "nbformat_minor": 2
}
