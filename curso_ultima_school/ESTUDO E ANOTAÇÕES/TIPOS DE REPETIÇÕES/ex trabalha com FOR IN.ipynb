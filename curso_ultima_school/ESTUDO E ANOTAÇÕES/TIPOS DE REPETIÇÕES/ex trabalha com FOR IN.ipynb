{
 "cells": [
  {
   "cell_type": "code",
   "execution_count": 46,
   "metadata": {},
   "outputs": [
    {
     "name": "stdout",
     "output_type": "stream",
     "text": [
      "Bruno tem 33 anos.\n",
      "Camila tem 39 anos.\n",
      "Valdo tem 70 anos.\n",
      "Wesley tem 31 anos.\n",
      "Indice: 2contém idade maior que 50\n",
      "['Bruno', 'Valdo']\n"
     ]
    },
    {
     "data": {
      "text/plain": [
       "['BRUNO', 'CAMILA', 'VALDO', 'WESLEY']"
      ]
     },
     "execution_count": 46,
     "metadata": {},
     "output_type": "execute_result"
    }
   ],
   "source": [
    "nomes = ['Bruno','Camila','Valdo','Wesley']\n",
    "idades = [33, 39, 70, 31]\n",
    "\n",
    "lista_de_tuplas = zip(nomes, idades)\n",
    "for nome, idade in lista_de_tuplas:\n",
    "    print(f'{nome} tem {idade} anos.')\n",
    "\n",
    "for indice, idade in enumerate(idades):\n",
    "    if idade > 50:\n",
    "        print(f'Indice: {indice}contém idade maior que 50')\n",
    "\n",
    "        idades[2]\n",
    "# list comprehension\n",
    "nomes = ['Bruno','Camila','Valdo','Wesley']\n",
    "nomes_com_ate_5_chars = [nome for nome in nomes if len(nome) <= 5]\n",
    "print(nomes_com_ate_5_chars)\n",
    "\n",
    "[nome.upper() for nome in nomes]\n",
    "\n",
    "\n",
    "\n",
    "\n",
    "\n",
    "\n",
    "\n"
   ]
  }
 ],
 "metadata": {
  "kernelspec": {
   "display_name": "Python 3",
   "language": "python",
   "name": "python3"
  },
  "language_info": {
   "codemirror_mode": {
    "name": "ipython",
    "version": 3
   },
   "file_extension": ".py",
   "mimetype": "text/x-python",
   "name": "python",
   "nbconvert_exporter": "python",
   "pygments_lexer": "ipython3",
   "version": "3.11.2"
  },
  "orig_nbformat": 4
 },
 "nbformat": 4,
 "nbformat_minor": 2
}
