{
 "cells": [
  {
   "cell_type": "markdown",
   "metadata": {},
   "source": [
    "Também é possível criar um objeto iterável através do protocolo Iterator. Para isso, é necessária uma classe que implemente os seguintes métodos:\n",
    "\n",
    "__init__: o método construtor, responsável pela criação do objeto. Nem sempre será necessário utilizá-lo, depende do projeto.\n",
    "\n",
    "__iter__:  retorna o próprio objeto para ser utilizado nos loops como for.\n",
    "\n",
    "__next__: retorna o próximo valor da iteração. Se a condição de parada for verdadeira, ou seja, quando não existir mais objetos para iterar, ela  lançará o erro StopIteration."
   ]
  },
  {
   "cell_type": "code",
   "execution_count": 7,
   "metadata": {},
   "outputs": [],
   "source": [
    "class Fibonacci:\n",
    "\n",
    "    def _init_(self, maximo=1000000):\n",
    "        self.elementoAtual, self.proxElemento = 0, 1\n",
    "        self.maximo = maximo\n",
    "\n",
    "    def _iter_(self):\n",
    "        return self\n",
    "\n",
    "    def _next_(self):\n",
    "        if self.elementoAtual > self.maximo:\n",
    "            raise StopIteration\n",
    "        \n",
    "        valorRetorno = self.elementoAtual\n",
    "        self.elementoAtual, self.proxElemento = self.proxElemento, self.proxElemento + self.proxElemento\n",
    "\n",
    "        return valorRetorno\n",
    "    "
   ]
  },
  {
   "cell_type": "markdown",
   "metadata": {},
   "source": [
    "Iteradores"
   ]
  },
  {
   "cell_type": "code",
   "execution_count": null,
   "metadata": {},
   "outputs": [],
   "source": [
    "class MyIterator:\n",
    "    def __init__(self, start, end):\n",
    "        self.current = start\n",
    "        self.end = end\n",
    "    def __iter__ (self):\n",
    "        return self\n",
    "    \n",
    "    def __next__(self):\n",
    "        if self.current >= self.end:\n",
    "            raise StopIteration\n",
    "        result = self.current\n",
    "        self.current += 1\n",
    "        return result\n",
    "\n",
    "iterator = MyIterator(0, 16)\n",
    "for i in iterator:\n",
    "    print(i)\n"
   ]
  },
  {
   "cell_type": "markdown",
   "metadata": {},
   "source": [
    "Geradores"
   ]
  },
  {
   "cell_type": "code",
   "execution_count": null,
   "metadata": {},
   "outputs": [],
   "source": [
    "def count_up_to(n):\n",
    "\n",
    "    count = 1\n",
    "    while count <= n:\n",
    "        yield count\n",
    "        count += 1\n",
    "\n",
    "counter = count_up_to(5)\n",
    "for i in counter:\n",
    "    print(i)"
   ]
  }
 ],
 "metadata": {
  "kernelspec": {
   "display_name": "Python 3",
   "language": "python",
   "name": "python3"
  },
  "language_info": {
   "codemirror_mode": {
    "name": "ipython",
    "version": 3
   },
   "file_extension": ".py",
   "mimetype": "text/x-python",
   "name": "python",
   "nbconvert_exporter": "python",
   "pygments_lexer": "ipython3",
   "version": "3.12.1"
  }
 },
 "nbformat": 4,
 "nbformat_minor": 2
}
