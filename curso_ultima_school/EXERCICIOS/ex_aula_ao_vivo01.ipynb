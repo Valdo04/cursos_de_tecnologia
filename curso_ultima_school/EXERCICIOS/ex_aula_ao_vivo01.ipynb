{
 "cells": [
  {
   "cell_type": "code",
   "execution_count": null,
   "metadata": {},
   "outputs": [],
   "source": [
    "a = int(input('primeiro numero'))\n",
    "b = int(input('segundo numero'))\n",
    "c = int(input('terceiro numero'))\n",
    "\n",
    "maior = a\n",
    "if a > b or a > "
   ]
  }
 ],
 "metadata": {
  "language_info": {
   "name": "python"
  },
  "orig_nbformat": 4
 },
 "nbformat": 4,
 "nbformat_minor": 2
}
